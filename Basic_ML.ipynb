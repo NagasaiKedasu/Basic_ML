{
  "nbformat": 4,
  "nbformat_minor": 0,
  "metadata": {
    "colab": {
      "name": "Basic ML",
      "provenance": []
    },
    "kernelspec": {
      "name": "python3",
      "display_name": "Python 3"
    },
    "language_info": {
      "name": "python"
    }
  },
  "cells": [
    {
      "cell_type": "code",
      "metadata": {
        "id": "WrpIcSFJXlPD"
      },
      "source": [
        ""
      ],
      "execution_count": null,
      "outputs": []
    },
    {
      "cell_type": "markdown",
      "metadata": {
        "id": "K39Np4zFXqm9"
      },
      "source": [
        "# **Python Program**\n",
        "\n",
        "Factorial of a number using recursion"
      ]
    },
    {
      "cell_type": "code",
      "metadata": {
        "colab": {
          "base_uri": "https://localhost:8080/"
        },
        "id": "wIanf7x0Xz5w",
        "outputId": "79abe410-81f4-4bc4-c8e0-a67e16201dc2"
      },
      "source": [
        "def recur_factorial(n):\n",
        "  if n == 1:\n",
        "    return n\n",
        "  else:\n",
        "    return n*recur_factorial(n-1)\n",
        "\n",
        "num = 9\n",
        "if num<0:\n",
        "  print(\"Factorial does not exit\")\n",
        "elif num == 0:\n",
        "  print(\"The Factorial of 0 is 1\")\n",
        "else:\n",
        "  print(\"The Factorial of\",num,\"is\",recur_factorial(num))"
      ],
      "execution_count": 1,
      "outputs": [
        {
          "output_type": "stream",
          "name": "stdout",
          "text": [
            "The Factorial of 9 is 362880\n"
          ]
        }
      ]
    },
    {
      "cell_type": "markdown",
      "metadata": {
        "id": "YXMsysxvX-_o"
      },
      "source": [
        "Minimum and Maximum of a given list"
      ]
    },
    {
      "cell_type": "code",
      "metadata": {
        "colab": {
          "base_uri": "https://localhost:8080/"
        },
        "id": "xggojHHZYCnK",
        "outputId": "9e3de105-40cc-4a39-852d-ab898baf960e"
      },
      "source": [
        "lst = [10,7,9,8,66,75,199,4]\n",
        "\n",
        "print(\"Maximum number of a list : \",max(lst))\n",
        "print(\"Minimum number of a list : \",min(lst))"
      ],
      "execution_count": 2,
      "outputs": [
        {
          "output_type": "stream",
          "name": "stdout",
          "text": [
            "Maximum number of a list :  199\n",
            "Minimum number of a list :  4\n"
          ]
        }
      ]
    },
    {
      "cell_type": "markdown",
      "metadata": {
        "id": "xm8F7-UfYJ1o"
      },
      "source": [
        "Sum of n natural numbers\n",
        "\n"
      ]
    },
    {
      "cell_type": "code",
      "metadata": {
        "colab": {
          "base_uri": "https://localhost:8080/"
        },
        "id": "7KsdRtSPYKw-",
        "outputId": "0182a0d9-877f-457d-c640-b3a00425407d"
      },
      "source": [
        "n = int(input(\"Enter a number : \"))\n",
        "sum = 0\n",
        "i = 0\n",
        "while i<=n:\n",
        "  sum = sum+i\n",
        "  i = i+1\n",
        "print(\"Sum of \",n,\"natural numbers is \",sum)"
      ],
      "execution_count": 3,
      "outputs": [
        {
          "output_type": "stream",
          "name": "stdout",
          "text": [
            "Enter a number : 9\n",
            "Sum of  9 natural numbers is  45\n"
          ]
        }
      ]
    }
  ]
}